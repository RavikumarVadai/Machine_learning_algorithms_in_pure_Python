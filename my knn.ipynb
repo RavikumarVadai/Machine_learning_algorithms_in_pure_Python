{
 "cells": [
  {
   "cell_type": "markdown",
   "metadata": {},
   "source": [
    "# k nearest neighbour classification\n",
    "## using iris data"
   ]
  },
  {
   "cell_type": "code",
   "execution_count": 93,
   "metadata": {},
   "outputs": [
    {
     "name": "stdout",
     "output_type": "stream",
     "text": [
      "(112, 4) (112,)\n"
     ]
    }
   ],
   "source": [
    "\n",
    "import numpy as np\n",
    "import pandas as pd\n",
    "\n",
    "url = 'https://archive.ics.uci.edu/ml/machine-learning-databases/iris/iris.data'\n",
    "names = ['sepal length', 'sepal width', 'petal length', 'petal width', 'class']\n",
    "iris_data = pd.read_csv(url, names = names)\n",
    "target_class = pd.get_dummies(iris_data['class']).columns\n",
    "target_names = np.array(target_class)\n",
    "X = iris_data.iloc[:,:4].values\n",
    "\n",
    "## converting Y to numbers\n",
    "#assigning number to each class #labelling class\n",
    "y = iris_data.iloc[:,4]\n",
    "y = y.replace(target_names[0], 0)\n",
    "y = y.replace(target_names[1], 1)\n",
    "y = y.replace(target_names[2],2)\n",
    "y = np.array(y)\n",
    "result = []\n",
    "\n",
    "\n",
    "# using scikit learn\n",
    "from sklearn.model_selection import train_test_split\n",
    "# split the data into taining set and a testing set\n",
    "# test set will be taken 25% randomly\n",
    "X_train, X_test, y_train, y_test = train_test_split(X, y, test_size = 0.25, random_state = 33)\n",
    "print(X_train.shape, y_train.shape)\n",
    "\n",
    "\n",
    "# euclidean distance\n",
    "def euclidean(att1, att2):\n",
    "    dist = 0\n",
    "    for i in range(len(att1)):\n",
    "        dist += pow((att1[i] - att2[i]),2)\n",
    "    return np.sqrt(dist)\n",
    "\n",
    "        \n",
    "def knn_predict(array, k):\n",
    "    result = []\n",
    "    for i in range(len(array)):\n",
    "        value = array[i]\n",
    "        \n",
    "        # major voting\n",
    "        def vote(item):\n",
    "            val = []\n",
    "            for i in range(len(knn)):\n",
    "                temp = item[i][1]\n",
    "                val.append(temp)\n",
    "            class_val = max(set(val), key= val.count) # max count\n",
    "            return class_val\n",
    "        \n",
    "        # passing distance function throught out iris data\n",
    "        distance = []\n",
    "        for j in range(len(X_train)) :\n",
    "            euclidean_distance = euclidean(value, X_train[j])\n",
    "            temp = [euclidean_distance, y_train[j]]\n",
    "            distance.append(temp)\n",
    "        distance.sort()\n",
    "        knn = distance[:k]\n",
    "        \n",
    "        #return vote(knn)\n",
    "        result.append(vote(knn))\n",
    "    return result"
   ]
  },
  {
   "cell_type": "markdown",
   "metadata": {},
   "source": [
    "## predicting a random sample array"
   ]
  },
  {
   "cell_type": "code",
   "execution_count": 94,
   "metadata": {},
   "outputs": [
    {
     "data": {
      "text/plain": [
       "[1, 0, 0, 2]"
      ]
     },
     "execution_count": 94,
     "metadata": {},
     "output_type": "execute_result"
    }
   ],
   "source": [
    "z = knn_predict([[6.7,3.1,4.4,1.4],[4.6,3.2,1.4,0.2],[4.6,3.2,1.4,0.2],[6.4,3.1,5.5,1.8]], 4)\n",
    "z"
   ]
  },
  {
   "cell_type": "code",
   "execution_count": 92,
   "metadata": {},
   "outputs": [],
   "source": [
    "## Evaluating results \n",
    "y_test_pred= knn_predict(X_test,5)\n",
    "y_test_prediction = np.asarray(y_test_pred)"
   ]
  },
  {
   "cell_type": "markdown",
   "metadata": {},
   "source": [
    "## Calculating accuracy"
   ]
  },
  {
   "cell_type": "code",
   "execution_count": 90,
   "metadata": {},
   "outputs": [
    {
     "data": {
      "text/plain": [
       "94.73684210526315"
      ]
     },
     "execution_count": 90,
     "metadata": {},
     "output_type": "execute_result"
    }
   ],
   "source": [
    "#calculating accuracy\n",
    "acc = y_test -y_test_prediction\n",
    "err = np.count_nonzero(acc)\n",
    "accuracy = ((len(y_test)-err)/len(y_test))*100\n",
    "accuracy"
   ]
  }
 ],
 "metadata": {
  "kernelspec": {
   "display_name": "Python 3",
   "language": "python",
   "name": "python3"
  },
  "language_info": {
   "codemirror_mode": {
    "name": "ipython",
    "version": 3
   },
   "file_extension": ".py",
   "mimetype": "text/x-python",
   "name": "python",
   "nbconvert_exporter": "python",
   "pygments_lexer": "ipython3",
   "version": "3.6.4"
  }
 },
 "nbformat": 4,
 "nbformat_minor": 2
}
